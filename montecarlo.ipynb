{
  "nbformat": 4,
  "nbformat_minor": 0,
  "metadata": {
    "colab": {
      "provenance": []
    },
    "kernelspec": {
      "name": "python3",
      "display_name": "Python 3"
    },
    "language_info": {
      "name": "python"
    }
  },
  "cells": [
    {
      "cell_type": "code",
      "execution_count": 6,
      "metadata": {
        "colab": {
          "base_uri": "https://localhost:8080/"
        },
        "id": "7ZY31IC2tfJn",
        "outputId": "cef7b301-965b-43e0-d6f0-fac641e34a9d"
      },
      "outputs": [
        {
          "output_type": "stream",
          "name": "stdout",
          "text": [
            "Aproximação da integral da função gamma incompleta para s=2.5 e x=1.0: 0.3507664800423633\n"
          ]
        }
      ],
      "source": [
        "import random\n",
        "import math\n",
        "\n",
        "def incomplete_gamma_monte_carlo(s, x, num_samples):\n",
        "    total = 0\n",
        "    for _ in range(num_samples):\n",
        "        t = random.expovariate(1) + x\n",
        "\n",
        "        integrand = t**(s-1) * math.exp(-t)\n",
        "\n",
        "        total += integrand\n",
        "\n",
        "\n",
        "    integral_approx = total / num_samples\n",
        "\n",
        "    return integral_approx\n",
        "\n",
        "s = 2.5\n",
        "x = 1.0\n",
        "num_samples = 100000\n",
        "\n",
        "approximation = incomplete_gamma_monte_carlo(s, x, num_samples)\n",
        "print(f\"Aproximação da integral da função gamma incompleta para s={s} e x={x}: {approximation}\")\n"
      ]
    },
    {
      "cell_type": "markdown",
      "source": [
        "-----\n"
      ],
      "metadata": {
        "id": "Kv76_wrytjCf"
      }
    },
    {
      "cell_type": "code",
      "source": [
        "import numpy as np\n",
        "import math\n",
        "import pymc as pm\n",
        "\n",
        "def incomplete_gamma(a, x):\n",
        "    def integral(t):\n",
        "        return t**(a-1) * np.exp(-t)\n",
        "\n",
        "    amostra = np.random.uniform(0, x, 10000)\n",
        "    curva = np.sum(np.random.uniform(0, 1, 10000) <= integral(amostra) / math.gamma(a) / x**a)\n",
        "    contagem = np.sum(integral(amostra) / math.gamma(a) / x**a > np.random.uniform(0, 1, 10000))\n",
        "\n",
        "    return amostra, contagem\n",
        "\n",
        "a = 2.5\n",
        "x = 1.0\n",
        "\n",
        "amostra, contagem = incomplete_gamma(a, x)\n",
        "\n",
        "print(f\"número de pontos abaixo da curva P(a, x): {contagem}\")\n",
        "area = contagem / len(amostra) * x\n",
        "print(f\"área da integral do gamma incompleto regularizado: {area}\")"
      ],
      "metadata": {
        "colab": {
          "base_uri": "https://localhost:8080/"
        },
        "id": "Zs1_xfprtk_a",
        "outputId": "defdb868-5993-446f-fa37-caf7de6b5ea7"
      },
      "execution_count": 7,
      "outputs": [
        {
          "output_type": "stream",
          "name": "stdout",
          "text": [
            "número de pontos abaixo da curva P(a, x): 1505\n",
            "área da integral do gamma incompleto regularizado: 0.1505\n"
          ]
        }
      ]
    }
  ]
}